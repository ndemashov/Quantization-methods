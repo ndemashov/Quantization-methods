{
 "cells": [
  {
   "cell_type": "code",
   "execution_count": 1,
   "metadata": {},
   "outputs": [],
   "source": [
    "import numpy as np\n",
    "import torch\n",
    "import torch.nn as nn\n",
    "import torchvision\n",
    "from torch.utils.data import DataLoader\n",
    "from torchvision import datasets\n",
    "import torchvision.transforms as transforms\n",
    "import os\n",
    "import time\n",
    "import sys\n",
    "from torch.quantization import QuantStub, DeQuantStub\n",
    "import torch.nn.functional as F\n",
    "from torch.utils.data import Dataset, DataLoader\n",
    "from torch.autograd import Variable\n",
    "import pandas as pd"
   ]
  },
  {
   "cell_type": "code",
   "execution_count": 2,
   "metadata": {},
   "outputs": [],
   "source": [
    "class QuantizedMLP(nn.Module):\n",
    "    def __init__(self):\n",
    "        super(QuantizedMLP, self).__init__()\n",
    "        self.linear1 = nn.Linear(784,250)\n",
    "        self.linear2 = nn.Linear(250,100)\n",
    "        self.linear3 = nn.Linear(100,10)\n",
    "        self.quant = QuantStub()\n",
    "        self.dequant = DeQuantStub()\n",
    "\n",
    "    def forward(self, X):\n",
    "        X = self.quant(X)\n",
    "        X = F.relu(self.linear1(X))\n",
    "        X = F.relu(self.linear2(X))\n",
    "        X = self.linear3(X)\n",
    "        X = self.dequant(X)\n",
    "        return X"
   ]
  },
  {
   "cell_type": "code",
   "execution_count": 3,
   "metadata": {},
   "outputs": [],
   "source": [
    "train_csv = pd.read_csv(\"fashion-mnist_train.csv\")\n",
    "test_csv = pd.read_csv(\"fashion-mnist_test.csv\")\n",
    "\n",
    "device = torch.device(\"cpu\")\n",
    "\n",
    "Y_train = train_csv['label'].values\n",
    "X_train = train_csv.drop(['label'], axis=1).values\n",
    "\n",
    "Y_test = test_csv['label'].values\n",
    "X_test = test_csv.drop(['label'], axis=1).values\n",
    "\n",
    "torch_Y_train = torch.from_numpy(Y_train).type(torch.LongTensor)\n",
    "torch_X_train = torch.from_numpy(X_train).type(torch.LongTensor)\n",
    "torch_Y_test = torch.from_numpy(Y_test).type(torch.LongTensor)\n",
    "torch_X_test = torch.from_numpy(X_test).type(torch.LongTensor)\n",
    "\n",
    "train = torch.utils.data.TensorDataset(torch_X_train, torch_Y_train)\n",
    "test = torch.utils.data.TensorDataset(torch_X_test, torch_Y_test)\n",
    "\n",
    "BATCH_SIZE = 32\n",
    "\n",
    "train_loader = torch.utils.data.DataLoader(train, batch_size = BATCH_SIZE)\n",
    "test_loader = torch.utils.data.DataLoader(test, batch_size = BATCH_SIZE)"
   ]
  },
  {
   "cell_type": "code",
   "execution_count": 4,
   "metadata": {},
   "outputs": [],
   "source": [
    "def fit(model, train_loader, epoch_number=5):\n",
    "    optimizer = torch.optim.Adam(model.parameters())\n",
    "    error = nn.CrossEntropyLoss()\n",
    "    model.train()\n",
    "\n",
    "    for epoch in range(epoch_number):\n",
    "        correct = 0\n",
    "\n",
    "        for batch_idx, (X_batch, Y_batch) in enumerate(train_loader):\n",
    "            var_X_batch = Variable(X_batch).float()\n",
    "            var_Y_batch = Variable(Y_batch)\n",
    "\n",
    "            optimizer.zero_grad()\n",
    "            output = model(var_X_batch)\n",
    "            loss = error(output, var_Y_batch)\n",
    "            loss.backward()\n",
    "            optimizer.step()\n",
    "\n",
    "            predicted = torch.max(output.data, 1)[1]\n",
    "            correct += (predicted == var_Y_batch).sum()\n",
    "            if batch_idx % 200 == 0:\n",
    "                print('Epoch : {} [{}/{} ({:.0f}%)]\\tLoss: {:.6f}\\tAccuracy: {:.6f}'.format(\n",
    "                 epoch + 1, batch_idx*len(X_batch), len(train_loader.dataset), 100.*batch_idx / len(train_loader), loss.data, float(correct*100) / float(BATCH_SIZE*(batch_idx+1))))"
   ]
  },
  {
   "cell_type": "code",
   "execution_count": 5,
   "metadata": {},
   "outputs": [],
   "source": [
    "def evaluate(model, loader=test_loader):\n",
    "    correct = 0 \n",
    "    for test_imgs, test_labels in loader:\n",
    "        test_imgs = Variable(test_imgs).float()\n",
    "        \n",
    "        output = model(test_imgs)\n",
    "        predicted = torch.max(output,1)[1]\n",
    "        correct += (predicted == test_labels).sum()\n",
    "    print(\"Test accuracy:{:.3f} \".format( float(correct) / (len(loader)*BATCH_SIZE)))"
   ]
  },
  {
   "cell_type": "code",
   "execution_count": 6,
   "metadata": {},
   "outputs": [
    {
     "name": "stdout",
     "output_type": "stream",
     "text": [
      "Epoch : 1 [0/60000 (0%)]\tLoss: 10.006263\tAccuracy: 18.750000\n",
      "Epoch : 1 [6400/60000 (11%)]\tLoss: 0.734963\tAccuracy: 69.682836\n",
      "Epoch : 1 [12800/60000 (21%)]\tLoss: 0.958783\tAccuracy: 73.745324\n",
      "Epoch : 1 [19200/60000 (32%)]\tLoss: 0.461707\tAccuracy: 75.499168\n",
      "Epoch : 1 [25600/60000 (43%)]\tLoss: 0.305438\tAccuracy: 76.845350\n",
      "Epoch : 1 [32000/60000 (53%)]\tLoss: 0.607994\tAccuracy: 77.659840\n",
      "Epoch : 1 [38400/60000 (64%)]\tLoss: 0.452415\tAccuracy: 78.421628\n",
      "Epoch : 1 [44800/60000 (75%)]\tLoss: 0.339880\tAccuracy: 78.950303\n",
      "Epoch : 1 [51200/60000 (85%)]\tLoss: 0.219395\tAccuracy: 79.444488\n",
      "Epoch : 1 [57600/60000 (96%)]\tLoss: 0.198142\tAccuracy: 79.757773\n",
      "Epoch : 2 [0/60000 (0%)]\tLoss: 0.498963\tAccuracy: 87.500000\n",
      "Epoch : 2 [6400/60000 (11%)]\tLoss: 0.520975\tAccuracy: 83.550995\n",
      "Epoch : 2 [12800/60000 (21%)]\tLoss: 0.731931\tAccuracy: 83.868454\n",
      "Epoch : 2 [19200/60000 (32%)]\tLoss: 0.254182\tAccuracy: 83.870632\n",
      "Epoch : 2 [25600/60000 (43%)]\tLoss: 0.293896\tAccuracy: 84.074594\n",
      "Epoch : 2 [32000/60000 (53%)]\tLoss: 0.576415\tAccuracy: 84.069056\n",
      "Epoch : 2 [38400/60000 (64%)]\tLoss: 0.473437\tAccuracy: 84.096586\n",
      "Epoch : 2 [44800/60000 (75%)]\tLoss: 0.240998\tAccuracy: 84.227784\n",
      "Epoch : 2 [51200/60000 (85%)]\tLoss: 0.188617\tAccuracy: 84.334010\n",
      "Epoch : 2 [57600/60000 (96%)]\tLoss: 0.265554\tAccuracy: 84.359384\n",
      "Epoch : 3 [0/60000 (0%)]\tLoss: 0.433974\tAccuracy: 90.625000\n",
      "Epoch : 3 [6400/60000 (11%)]\tLoss: 0.340089\tAccuracy: 84.888060\n",
      "Epoch : 3 [12800/60000 (21%)]\tLoss: 0.609583\tAccuracy: 85.130923\n",
      "Epoch : 3 [19200/60000 (32%)]\tLoss: 0.290192\tAccuracy: 85.284942\n",
      "Epoch : 3 [25600/60000 (43%)]\tLoss: 0.312214\tAccuracy: 85.475187\n",
      "Epoch : 3 [32000/60000 (53%)]\tLoss: 0.605049\tAccuracy: 85.355270\n",
      "Epoch : 3 [38400/60000 (64%)]\tLoss: 0.429452\tAccuracy: 85.275291\n",
      "Epoch : 3 [44800/60000 (75%)]\tLoss: 0.282154\tAccuracy: 85.456817\n",
      "Epoch : 3 [51200/60000 (85%)]\tLoss: 0.134499\tAccuracy: 85.555903\n",
      "Epoch : 3 [57600/60000 (96%)]\tLoss: 0.129940\tAccuracy: 85.487229\n",
      "Epoch : 4 [0/60000 (0%)]\tLoss: 0.377521\tAccuracy: 87.500000\n",
      "Epoch : 4 [6400/60000 (11%)]\tLoss: 0.338895\tAccuracy: 85.525498\n",
      "Epoch : 4 [12800/60000 (21%)]\tLoss: 0.691011\tAccuracy: 85.894638\n",
      "Epoch : 4 [19200/60000 (32%)]\tLoss: 0.215538\tAccuracy: 86.002496\n",
      "Epoch : 4 [25600/60000 (43%)]\tLoss: 0.231623\tAccuracy: 86.185237\n",
      "Epoch : 4 [32000/60000 (53%)]\tLoss: 0.485341\tAccuracy: 86.029595\n",
      "Epoch : 4 [38400/60000 (64%)]\tLoss: 0.584207\tAccuracy: 85.985637\n",
      "Epoch : 4 [44800/60000 (75%)]\tLoss: 0.282269\tAccuracy: 86.067987\n",
      "Epoch : 4 [51200/60000 (85%)]\tLoss: 0.111987\tAccuracy: 86.114147\n",
      "Epoch : 4 [57600/60000 (96%)]\tLoss: 0.124551\tAccuracy: 86.082385\n",
      "Epoch : 5 [0/60000 (0%)]\tLoss: 0.522270\tAccuracy: 81.250000\n",
      "Epoch : 5 [6400/60000 (11%)]\tLoss: 0.368783\tAccuracy: 86.986940\n",
      "Epoch : 5 [12800/60000 (21%)]\tLoss: 0.661862\tAccuracy: 86.884352\n",
      "Epoch : 5 [19200/60000 (32%)]\tLoss: 0.238481\tAccuracy: 86.746048\n",
      "Epoch : 5 [25600/60000 (43%)]\tLoss: 0.308329\tAccuracy: 86.856273\n",
      "Epoch : 5 [32000/60000 (53%)]\tLoss: 0.433023\tAccuracy: 86.791334\n",
      "Epoch : 5 [38400/60000 (64%)]\tLoss: 0.502580\tAccuracy: 86.761032\n",
      "Epoch : 5 [44800/60000 (75%)]\tLoss: 0.199195\tAccuracy: 86.864293\n",
      "Epoch : 5 [51200/60000 (85%)]\tLoss: 0.095565\tAccuracy: 86.869535\n",
      "Epoch : 5 [57600/60000 (96%)]\tLoss: 0.133216\tAccuracy: 86.842379\n"
     ]
    }
   ],
   "source": [
    "model = QuantizedMLP()\n",
    "SEED = 9856\n",
    "torch.manual_seed(SEED)\n",
    "fit(model, train_loader)"
   ]
  },
  {
   "cell_type": "code",
   "execution_count": 7,
   "metadata": {},
   "outputs": [],
   "source": [
    "def calc_size(model):\n",
    "    torch.save(model.state_dict(), \"model.p\")\n",
    "    size=os.path.getsize(\"model.p\")\n",
    "    os.remove('model.p')\n",
    "    return \"{:.3f} KB\".format(size / 1024)"
   ]
  },
  {
   "cell_type": "code",
   "execution_count": 8,
   "metadata": {},
   "outputs": [
    {
     "data": {
      "text/plain": [
       "'870.585 KB'"
      ]
     },
     "execution_count": 8,
     "metadata": {},
     "output_type": "execute_result"
    }
   ],
   "source": [
    "calc_size(model)"
   ]
  },
  {
   "cell_type": "code",
   "execution_count": 9,
   "metadata": {},
   "outputs": [],
   "source": [
    "from contextlib import contextmanager\n",
    "\n",
    "@contextmanager\n",
    "def single_thread():  \n",
    "    num = torch.get_num_threads()\n",
    "    torch.set_num_threads(1)\n",
    "    yield\n",
    "    torch.set_num_threads(num)"
   ]
  },
  {
   "cell_type": "code",
   "execution_count": 13,
   "metadata": {},
   "outputs": [
    {
     "name": "stdout",
     "output_type": "stream",
     "text": [
      "Test accuracy:0.865 \n",
      "Test accuracy:0.865 \n",
      "Test accuracy:0.865 \n",
      "Test accuracy:0.865 \n",
      "Test accuracy:0.865 \n",
      "Test accuracy:0.865 \n",
      "Test accuracy:0.865 \n",
      "Test accuracy:0.865 \n",
      "Test accuracy:0.865 \n",
      "Test accuracy:0.865 \n",
      "Test accuracy:0.865 \n",
      "1.61 s ± 135 ms per loop (mean ± std. dev. of 10 runs, 1 loop each)\n"
     ]
    }
   ],
   "source": [
    "%%timeit -r10\n",
    "\n",
    "with single_thread():\n",
    "    evaluate(model, train_loader)"
   ]
  },
  {
   "cell_type": "markdown",
   "metadata": {},
   "source": [
    "# Dinamic"
   ]
  },
  {
   "cell_type": "code",
   "execution_count": 10,
   "metadata": {},
   "outputs": [],
   "source": [
    "model_int8_dinamic = torch.quantization.quantize_dynamic(\n",
    "    model,  # the original model\n",
    "    {torch.nn.Linear},  # a set of layers to dynamically quantize\n",
    "    dtype=torch.qint8)"
   ]
  },
  {
   "cell_type": "code",
   "execution_count": 11,
   "metadata": {},
   "outputs": [
    {
     "data": {
      "text/plain": [
       "'222.126 KB'"
      ]
     },
     "execution_count": 11,
     "metadata": {},
     "output_type": "execute_result"
    }
   ],
   "source": [
    "calc_size(model_int8_dinamic)"
   ]
  },
  {
   "cell_type": "code",
   "execution_count": 18,
   "metadata": {},
   "outputs": [
    {
     "name": "stdout",
     "output_type": "stream",
     "text": [
      "Test accuracy:0.867 \n",
      "Test accuracy:0.867 \n",
      "Test accuracy:0.867 \n",
      "Test accuracy:0.867 \n",
      "Test accuracy:0.867 \n",
      "Test accuracy:0.867 \n",
      "Test accuracy:0.867 \n",
      "Test accuracy:0.867 \n",
      "Test accuracy:0.867 \n",
      "Test accuracy:0.867 \n",
      "Test accuracy:0.867 \n",
      "1.23 s ± 87.7 ms per loop (mean ± std. dev. of 10 runs, 1 loop each)\n"
     ]
    }
   ],
   "source": [
    "%%timeit -r10\n",
    "\n",
    "with single_thread():\n",
    "    evaluate(model_int8_dinamic, train_loader)"
   ]
  },
  {
   "cell_type": "markdown",
   "metadata": {},
   "source": [
    "# Static"
   ]
  },
  {
   "cell_type": "code",
   "execution_count": 14,
   "metadata": {},
   "outputs": [
    {
     "name": "stderr",
     "output_type": "stream",
     "text": [
      "C:\\Users\\nixon\\AppData\\Local\\Packages\\PythonSoftwareFoundation.Python.3.9_qbz5n2kfra8p0\\LocalCache\\local-packages\\Python39\\site-packages\\torch\\ao\\quantization\\observer.py:172: UserWarning: Please use quant_min and quant_max to specify the range for observers.                     reduce_range will be deprecated in a future release of PyTorch.\n",
      "  warnings.warn(\n"
     ]
    }
   ],
   "source": [
    "model.qconfig = torch.quantization.get_default_qconfig('fbgemm')\n",
    "model_prepared = torch.quantization.prepare(model)"
   ]
  },
  {
   "cell_type": "code",
   "execution_count": 15,
   "metadata": {},
   "outputs": [
    {
     "name": "stderr",
     "output_type": "stream",
     "text": [
      "C:\\Users\\nixon\\AppData\\Local\\Packages\\PythonSoftwareFoundation.Python.3.9_qbz5n2kfra8p0\\LocalCache\\local-packages\\Python39\\site-packages\\torch\\ao\\quantization\\observer.py:1107: UserWarning: must run observer before calling calculate_qparams.                                    Returning default scale and zero point \n",
      "  warnings.warn(\n"
     ]
    }
   ],
   "source": [
    "model_int8_static = torch.quantization.convert(model_prepared)"
   ]
  },
  {
   "cell_type": "code",
   "execution_count": 16,
   "metadata": {},
   "outputs": [
    {
     "data": {
      "text/plain": [
       "'229.540 KB'"
      ]
     },
     "execution_count": 16,
     "metadata": {},
     "output_type": "execute_result"
    }
   ],
   "source": [
    "calc_size(model_int8_static)"
   ]
  },
  {
   "cell_type": "code",
   "execution_count": 17,
   "metadata": {},
   "outputs": [
    {
     "name": "stdout",
     "output_type": "stream",
     "text": [
      "Test accuracy:0.816 \n",
      "Test accuracy:0.816 \n",
      "Test accuracy:0.816 \n",
      "Test accuracy:0.816 \n",
      "Test accuracy:0.816 \n",
      "Test accuracy:0.816 \n",
      "Test accuracy:0.816 \n",
      "Test accuracy:0.816 \n",
      "Test accuracy:0.816 \n",
      "Test accuracy:0.816 \n",
      "Test accuracy:0.816 \n",
      "1.22 s ± 91.2 ms per loop (mean ± std. dev. of 10 runs, 1 loop each)\n"
     ]
    }
   ],
   "source": [
    "%%timeit -r10\n",
    "\n",
    "with single_thread():\n",
    "    evaluate(model_int8_static, train_loader)"
   ]
  }
 ],
 "metadata": {
  "interpreter": {
   "hash": "847e9e761d685a92b5b7c800293d660b0e9ce30131ce7ce17397858f631a1090"
  },
  "kernelspec": {
   "display_name": "Python 3.9.12 64-bit (windows store)",
   "language": "python",
   "name": "python3"
  },
  "language_info": {
   "codemirror_mode": {
    "name": "ipython",
    "version": 3
   },
   "file_extension": ".py",
   "mimetype": "text/x-python",
   "name": "python",
   "nbconvert_exporter": "python",
   "pygments_lexer": "ipython3",
   "version": "3.9.13"
  },
  "orig_nbformat": 4
 },
 "nbformat": 4,
 "nbformat_minor": 2
}
